{
 "cells": [
  {
   "cell_type": "code",
   "execution_count": 1,
   "id": "0f6a938b",
   "metadata": {},
   "outputs": [
    {
     "name": "stderr",
     "output_type": "stream",
     "text": [
      "2022-10-05 15:06:38.917547: I tensorflow/core/platform/cpu_feature_guard.cc:193] This TensorFlow binary is optimized with oneAPI Deep Neural Network Library (oneDNN) to use the following CPU instructions in performance-critical operations:  AVX2 FMA\n",
      "To enable them in other operations, rebuild TensorFlow with the appropriate compiler flags.\n",
      "2022-10-05 15:06:39.109032: E tensorflow/stream_executor/cuda/cuda_blas.cc:2981] Unable to register cuBLAS factory: Attempting to register factory for plugin cuBLAS when one has already been registered\n",
      "2022-10-05 15:06:39.786776: W tensorflow/stream_executor/platform/default/dso_loader.cc:64] Could not load dynamic library 'libnvinfer.so.7'; dlerror: libnvinfer.so.7: cannot open shared object file: No such file or directory; LD_LIBRARY_PATH: /home/jetcalz07/anaconda3/lib/python3.9/site-packages/cv2/../../lib64::/home/jetcalz07/anaconda3/envs/sf_dd/lib/:/home/jetcalz07/anaconda3/envs/sf_dd/lib/:/home/jetcalz07/anaconda3/envs/sf_dd/lib/:/home/jetcalz07/anaconda3/envs/sf_dd/lib/\n",
      "2022-10-05 15:06:39.786903: W tensorflow/stream_executor/platform/default/dso_loader.cc:64] Could not load dynamic library 'libnvinfer_plugin.so.7'; dlerror: libnvinfer_plugin.so.7: cannot open shared object file: No such file or directory; LD_LIBRARY_PATH: /home/jetcalz07/anaconda3/lib/python3.9/site-packages/cv2/../../lib64::/home/jetcalz07/anaconda3/envs/sf_dd/lib/:/home/jetcalz07/anaconda3/envs/sf_dd/lib/:/home/jetcalz07/anaconda3/envs/sf_dd/lib/:/home/jetcalz07/anaconda3/envs/sf_dd/lib/\n",
      "2022-10-05 15:06:39.786914: W tensorflow/compiler/tf2tensorrt/utils/py_utils.cc:38] TF-TRT Warning: Cannot dlopen some TensorRT libraries. If you would like to use Nvidia GPU with TensorRT, please make sure the missing libraries mentioned above are installed properly.\n"
     ]
    },
    {
     "name": "stdout",
     "output_type": "stream",
     "text": [
      "[PhysicalDevice(name='/physical_device:GPU:0', device_type='GPU')]\n"
     ]
    },
    {
     "name": "stderr",
     "output_type": "stream",
     "text": [
      "2022-10-05 15:06:41.226235: I tensorflow/stream_executor/cuda/cuda_gpu_executor.cc:980] successful NUMA node read from SysFS had negative value (-1), but there must be at least one NUMA node, so returning NUMA node zero\n",
      "2022-10-05 15:06:41.237080: I tensorflow/stream_executor/cuda/cuda_gpu_executor.cc:980] successful NUMA node read from SysFS had negative value (-1), but there must be at least one NUMA node, so returning NUMA node zero\n",
      "2022-10-05 15:06:41.237341: I tensorflow/stream_executor/cuda/cuda_gpu_executor.cc:980] successful NUMA node read from SysFS had negative value (-1), but there must be at least one NUMA node, so returning NUMA node zero\n"
     ]
    }
   ],
   "source": [
    "import numpy as np\n",
    "import pandas as pd\n",
    "import os\n",
    "import cv2\n",
    "import matplotlib.pyplot as plt\n",
    "from glob import glob\n",
    "from tqdm import tqdm\n",
    "import warnings\n",
    "warnings.filterwarnings('ignore')\n",
    "\n",
    "import tensorflow as tf\n",
    "from tensorflow import keras\n",
    "from keras.utils import np_utils\n",
    "from tensorflow.keras.layers import Input, Dense, Conv2D, MaxPooling2D, Flatten, Dropout\n",
    "from tensorflow.keras.models import Model\n",
    "from tensorflow.keras.preprocessing.image import ImageDataGenerator\n",
    "print(tf.config.list_physical_devices('GPU'))\n",
    "\n",
    "from sklearn.model_selection import train_test_split\n",
    "from sklearn.datasets import load_files       \n",
    "from sklearn.utils import shuffle\n",
    "from sklearn.metrics import log_loss"
   ]
  },
  {
   "cell_type": "code",
   "execution_count": 2,
   "id": "fb5e43a4",
   "metadata": {},
   "outputs": [],
   "source": [
    "train_dir = '/home/jetcalz07/state_farm_distracted_driver/data/imgs/train/'\n",
    "test_dir = '/home/jetcalz07/state_farm_distracted_driver/data/imgs/test/'"
   ]
  },
  {
   "cell_type": "code",
   "execution_count": 3,
   "id": "3fafaafa",
   "metadata": {},
   "outputs": [],
   "source": [
    "# Function to read indiv image\n",
    "def get_cv2_image(path, img_rows, img_cols, color_type=1):\n",
    "    # Loading as Grayscale image\n",
    "    if color_type == 1:\n",
    "        img = cv2.imread(path, cv2.IMREAD_GRAYSCALE)\n",
    "    elif color_type == 3:\n",
    "        img = cv2.imread(path, cv2.IMREAD_COLOR)\n",
    "    # Reduce size\n",
    "    img = cv2.resize(img, (img_rows, img_cols)) \n",
    "    return img"
   ]
  },
  {
   "cell_type": "code",
   "execution_count": 4,
   "id": "9e82f89e",
   "metadata": {},
   "outputs": [],
   "source": [
    "num_classes = 10\n",
    "classes = ['c' + str(x) for x in range(num_classes)]\n",
    "\n",
    "# Load train batch into image and label arrays\n",
    "def load_train(img_rows, img_cols, color_type=1):\n",
    "    train_imgs = []\n",
    "    train_labels = []\n",
    "    \n",
    "    # Go through each folder\n",
    "    i = 0\n",
    "    for class_ in classes:\n",
    "        files = glob(os.path.join(train_dir, class_, '*.jpg'))\n",
    "        for file in tqdm(files):\n",
    "            img = get_cv2_image(file, img_rows, img_cols, color_type)\n",
    "            train_imgs.append(img)\n",
    "            train_labels.append(i)\n",
    "        i += 1\n",
    "            \n",
    "    return train_imgs, train_labels\n",
    "\n",
    "\n",
    "# Split into train and val\n",
    "def normalize_and_split_train_val(img_rows, img_cols, color_type=1):\n",
    "    X, labels = load_train(img_rows, img_cols, color_type)\n",
    "    y = np_utils.to_categorical(labels, 10)\n",
    "    x_train, x_val, y_train, y_val = train_test_split(X, y, test_size=0.2, random_state=42)\n",
    "    \n",
    "    # Convert dtype and reshape for batches\n",
    "    x_train = np.array(x_train, dtype=np.uint8).reshape(-1,img_rows,img_cols,color_type)\n",
    "    x_val = np.array(x_val, dtype=np.uint8).reshape(-1,img_rows,img_cols,color_type)\n",
    "    \n",
    "    return x_train, x_val, y_train, y_val\n",
    "    \n",
    "    \n",
    "# Same for test\n",
    "def load_test(img_rows, img_cols, color_type=1, size=200000):\n",
    "    test_data = []\n",
    "    test_files = []\n",
    "    \n",
    "    files = glob(os.path.join(test_dir, '*.jpg'))\n",
    "    total = 0\n",
    "    for file in files:\n",
    "        if total >= size:\n",
    "            break\n",
    "        img = get_cv2_image(file, img_rows, img_cols, color_type)\n",
    "        test_data.append(img)\n",
    "        test_files.append(file)\n",
    "        total += 1\n",
    "            \n",
    "    return test_data, test_files\n",
    "\n",
    "def read_and_normalize_test_data(img_rows, img_cols, color_type=1, size=200000):\n",
    "    test_data, test_files = load_test(img_rows, img_cols, color_type, size)\n",
    "    test_data = np.array(test_data, dtype=np.uint8).reshape(-1,img_rows,img_cols,color_type)\n",
    "    \n",
    "    return test_data, test_files"
   ]
  },
  {
   "cell_type": "code",
   "execution_count": 5,
   "id": "76fcd7ec",
   "metadata": {},
   "outputs": [
    {
     "name": "stderr",
     "output_type": "stream",
     "text": [
      "100%|█████████████████████████████████████| 2489/2489 [00:03<00:00, 644.45it/s]\n",
      "100%|█████████████████████████████████████| 2267/2267 [00:03<00:00, 639.12it/s]\n",
      "100%|█████████████████████████████████████| 2317/2317 [00:03<00:00, 663.47it/s]\n",
      "100%|█████████████████████████████████████| 2346/2346 [00:03<00:00, 659.52it/s]\n",
      "100%|█████████████████████████████████████| 2326/2326 [00:04<00:00, 562.64it/s]\n",
      "100%|█████████████████████████████████████| 2312/2312 [00:03<00:00, 659.06it/s]\n",
      "100%|█████████████████████████████████████| 2325/2325 [00:03<00:00, 658.45it/s]\n",
      "100%|█████████████████████████████████████| 2002/2002 [00:03<00:00, 648.58it/s]\n",
      "100%|█████████████████████████████████████| 1911/1911 [00:02<00:00, 652.86it/s]\n",
      "100%|█████████████████████████████████████| 2129/2129 [00:03<00:00, 651.84it/s]\n"
     ]
    },
    {
     "name": "stdout",
     "output_type": "stream",
     "text": [
      "X Train shape: (17939, 128, 128, 1)\n",
      "Y Train shape: (17939, 10)\n",
      "X Val shape: (4485, 128, 128, 1)\n",
      "Y Val shape: (4485, 10)\n",
      "\n",
      "Sample Image Label: [0. 0. 0. 0. 0. 0. 1. 0. 0. 0.]\n"
     ]
    },
    {
     "data": {
      "text/plain": [
       "<matplotlib.image.AxesImage at 0x7f40b3334340>"
      ]
     },
     "execution_count": 5,
     "metadata": {},
     "output_type": "execute_result"
    },
    {
     "data": {
      "image/png": "[encoded data removed]",
      "text/plain": [
       "<Figure size 432x288 with 1 Axes>"
      ]
     },
     "metadata": {
      "needs_background": "light"
     },
     "output_type": "display_data"
    }
   ],
   "source": [
    "img_rows = 128\n",
    "img_cols = 128\n",
    "color_type = 1\n",
    "\n",
    "#train_imgs, train_labels = load_train(img_rows, img_cols, color_type)\n",
    "x_train, x_val, y_train, y_val = normalize_and_split_train_val(img_rows, img_cols, color_type)\n",
    "print('X Train shape:', x_train.shape)\n",
    "print('Y Train shape:', y_train.shape)\n",
    "print('X Val shape:', x_val.shape)\n",
    "print('Y Val shape:', y_val.shape)\n",
    "\n",
    "print(f\"\\nSample Image Label: {y_train[0]}\")\n",
    "plt.imshow(x_train[0], cmap='gray')"
   ]
  },
  {
   "cell_type": "markdown",
   "id": "88bc7763",
   "metadata": {},
   "source": [
    "### Simple CNN"
   ]
  },
  {
   "cell_type": "code",
   "execution_count": 6,
   "id": "c2c1f29c",
   "metadata": {},
   "outputs": [],
   "source": [
    "def build_simple_cnn(input_shape, batch_size, kernel_size, filters, pool_size, dropout, num_labels):\n",
    "    inputs = Input(shape=(input_shape))\n",
    "    \n",
    "    # Conv + Pool #1\n",
    "    conv1 = Conv2D(filters=filters, kernel_size=kernel_size, activation='relu')(inputs)\n",
    "    maxp1 = MaxPooling2D(pool_size)(conv1)\n",
    "    \n",
    "    # Conv + Pool #2\n",
    "    conv2 = Conv2D(filters=filters, kernel_size=kernel_size, activation='relu')(maxp1)\n",
    "    maxp2 = MaxPooling2D(pool_size)(conv2)\n",
    "    \n",
    "    # Flatten + Dropoout\n",
    "    flat = Flatten()(maxp2)\n",
    "    drop = Dropout(dropout)(flat)\n",
    "    \n",
    "    # Fully Connected\n",
    "    outputs = Dense(num_labels, activation = 'softmax')(drop)\n",
    "    \n",
    "    # Build\n",
    "    model = Model(inputs=inputs, outputs=outputs)\n",
    "    model.compile(loss='categorical_crossentropy', optimizer='adam', metrics=['accuracy'])\n",
    "    \n",
    "    return model"
   ]
  },
  {
   "cell_type": "code",
   "execution_count": 7,
   "id": "d5234bb5",
   "metadata": {},
   "outputs": [
    {
     "name": "stderr",
     "output_type": "stream",
     "text": [
      "2022-10-05 15:07:16.821213: I tensorflow/core/platform/cpu_feature_guard.cc:193] This TensorFlow binary is optimized with oneAPI Deep Neural Network Library (oneDNN) to use the following CPU instructions in performance-critical operations:  AVX2 FMA\n",
      "To enable them in other operations, rebuild TensorFlow with the appropriate compiler flags.\n",
      "2022-10-05 15:07:16.822551: I tensorflow/stream_executor/cuda/cuda_gpu_executor.cc:980] successful NUMA node read from SysFS had negative value (-1), but there must be at least one NUMA node, so returning NUMA node zero\n",
      "2022-10-05 15:07:16.822896: I tensorflow/stream_executor/cuda/cuda_gpu_executor.cc:980] successful NUMA node read from SysFS had negative value (-1), but there must be at least one NUMA node, so returning NUMA node zero\n",
      "2022-10-05 15:07:16.823148: I tensorflow/stream_executor/cuda/cuda_gpu_executor.cc:980] successful NUMA node read from SysFS had negative value (-1), but there must be at least one NUMA node, so returning NUMA node zero\n",
      "2022-10-05 15:07:18.339841: I tensorflow/stream_executor/cuda/cuda_gpu_executor.cc:980] successful NUMA node read from SysFS had negative value (-1), but there must be at least one NUMA node, so returning NUMA node zero\n",
      "2022-10-05 15:07:18.341069: I tensorflow/stream_executor/cuda/cuda_gpu_executor.cc:980] successful NUMA node read from SysFS had negative value (-1), but there must be at least one NUMA node, so returning NUMA node zero\n",
      "2022-10-05 15:07:18.341346: I tensorflow/stream_executor/cuda/cuda_gpu_executor.cc:980] successful NUMA node read from SysFS had negative value (-1), but there must be at least one NUMA node, so returning NUMA node zero\n",
      "2022-10-05 15:07:18.341550: I tensorflow/core/common_runtime/gpu/gpu_device.cc:1616] Created device /job:localhost/replica:0/task:0/device:GPU:0 with 13783 MB memory:  -> device: 0, name: Tesla T4, pci bus id: 0000:00:04.0, compute capability: 7.5\n"
     ]
    },
    {
     "name": "stdout",
     "output_type": "stream",
     "text": [
      "Epoch 1/10\n"
     ]
    },
    {
     "name": "stderr",
     "output_type": "stream",
     "text": [
      "2022-10-05 15:07:21.181495: I tensorflow/stream_executor/cuda/cuda_dnn.cc:384] Loaded cuDNN version 8100\n",
      "2022-10-05 15:07:23.606762: I tensorflow/core/platform/default/subprocess.cc:304] Start cannot spawn child process: No such file or directory\n",
      "2022-10-05 15:07:23.607460: I tensorflow/core/platform/default/subprocess.cc:304] Start cannot spawn child process: No such file or directory\n",
      "2022-10-05 15:07:23.607499: W tensorflow/stream_executor/gpu/asm_compiler.cc:80] Couldn't get ptxas version string: INTERNAL: Couldn't invoke ptxas --version\n",
      "2022-10-05 15:07:23.608090: I tensorflow/core/platform/default/subprocess.cc:304] Start cannot spawn child process: No such file or directory\n",
      "2022-10-05 15:07:23.608189: W tensorflow/stream_executor/gpu/redzone_allocator.cc:314] INTERNAL: Failed to launch ptxas\n",
      "Relying on driver to perform ptx compilation. \n",
      "Modify $PATH to customize ptxas location.\n",
      "This message will be only logged once.\n"
     ]
    },
    {
     "name": "stdout",
     "output_type": "stream",
     "text": [
      "141/141 [==============================] - 17s 68ms/step - loss: 9.0555 - accuracy: 0.7509 - val_loss: 0.1087 - val_accuracy: 0.9701\n",
      "Epoch 2/10\n",
      "141/141 [==============================] - 9s 65ms/step - loss: 0.0939 - accuracy: 0.9708 - val_loss: 0.0810 - val_accuracy: 0.9775\n",
      "Epoch 3/10\n",
      "141/141 [==============================] - 9s 65ms/step - loss: 0.0712 - accuracy: 0.9797 - val_loss: 0.0488 - val_accuracy: 0.9895\n",
      "Epoch 4/10\n",
      "141/141 [==============================] - 9s 65ms/step - loss: 0.0586 - accuracy: 0.9819 - val_loss: 0.0664 - val_accuracy: 0.9831\n",
      "Epoch 5/10\n",
      "141/141 [==============================] - 9s 65ms/step - loss: 0.0516 - accuracy: 0.9851 - val_loss: 0.0525 - val_accuracy: 0.9904\n",
      "Epoch 6/10\n",
      "141/141 [==============================] - 9s 65ms/step - loss: 0.0687 - accuracy: 0.9796 - val_loss: 0.0827 - val_accuracy: 0.9826\n",
      "Epoch 7/10\n",
      "141/141 [==============================] - 9s 65ms/step - loss: 0.0771 - accuracy: 0.9793 - val_loss: 0.0693 - val_accuracy: 0.9851\n",
      "Epoch 8/10\n",
      "141/141 [==============================] - 9s 65ms/step - loss: 0.0436 - accuracy: 0.9889 - val_loss: 0.0542 - val_accuracy: 0.9915\n",
      "Epoch 9/10\n",
      "141/141 [==============================] - 9s 65ms/step - loss: 0.0395 - accuracy: 0.9890 - val_loss: 0.0645 - val_accuracy: 0.9875\n",
      "Epoch 10/10\n",
      "141/141 [==============================] - 9s 66ms/step - loss: 0.0428 - accuracy: 0.9899 - val_loss: 0.0775 - val_accuracy: 0.9891\n"
     ]
    }
   ],
   "source": [
    "size_x = x_train.shape[1]\n",
    "size_y = x_train.shape[2]\n",
    "input_shape = (size_x, size_y, 1)\n",
    "batch_size = 128\n",
    "kernel_size = 3\n",
    "pool_size=(2, 2)\n",
    "filters = 64\n",
    "dropout = 0.3\n",
    "num_labels = 10\n",
    "\n",
    "def build_simple_cnn(input_shape, batch_size, kernel_size, filters, pool_size, dropout, num_labels):\n",
    "    inputs = Input(shape=(input_shape))\n",
    "    \n",
    "    # Conv + Pool #1\n",
    "    conv1 = Conv2D(filters=filters, kernel_size=kernel_size, activation='relu')(inputs)\n",
    "    maxp1 = MaxPooling2D(pool_size)(conv1)\n",
    "    \n",
    "    # Conv + Pool #2\n",
    "    conv2 = Conv2D(filters=filters, kernel_size=kernel_size, activation='relu')(maxp1)\n",
    "    maxp2 = MaxPooling2D(pool_size)(conv2)\n",
    "    \n",
    "    # Flatten + Dropoout\n",
    "    flat = Flatten()(maxp2)\n",
    "    drop = Dropout(dropout)(flat)\n",
    "    \n",
    "    # Fully Connected\n",
    "    outputs = Dense(num_labels, activation = 'softmax')(drop)\n",
    "    \n",
    "    # Build\n",
    "    model = Model(inputs=inputs, outputs=outputs)\n",
    "    model.compile(loss='categorical_crossentropy', optimizer='adam', metrics=['accuracy'])\n",
    "    \n",
    "    return model\n",
    "\n",
    "simple_cnn = build_simple_cnn(input_shape, batch_size, kernel_size, filters, pool_size, dropout, num_labels)\n",
    "history = simple_cnn.fit(x_train,\n",
    "                           y_train,\n",
    "                           validation_data=(x_val, y_val),\n",
    "                           epochs=10,\n",
    "                           batch_size=batch_size)"
   ]
  },
  {
   "cell_type": "code",
   "execution_count": 8,
   "id": "b0f9013e",
   "metadata": {},
   "outputs": [
    {
     "data": {
      "image/png": "[encoded data removed]",
      "text/plain": [
       "<Figure size 1080x360 with 2 Axes>"
      ]
     },
     "metadata": {
      "needs_background": "light"
     },
     "output_type": "display_data"
    }
   ],
   "source": [
    "def plot_history(history):\n",
    "    fig, axs = plt.subplots(1, 2, figsize=(15,5))\n",
    "\n",
    "    # summarize history for accuracy\n",
    "    axs[0].plot(history.history['accuracy'])\n",
    "    axs[0].plot(history.history['val_accuracy'])\n",
    "    axs[0].set_title('model accuracy')\n",
    "    axs[0].set_ylabel('accuracy')\n",
    "    axs[0].set_xlabel('epoch')\n",
    "    axs[0].legend(['train', 'val'], loc='upper left')\n",
    "\n",
    "    # summarize history for loss\n",
    "    axs[1].plot(history.history['loss'])\n",
    "    axs[1].plot(history.history['val_loss'])\n",
    "    axs[1].set_title('model loss')\n",
    "    axs[1].set_ylabel('loss')\n",
    "    axs[1].set_xlabel('epoch')\n",
    "    axs[1].legend(['train', 'val'], loc='upper left')\n",
    "\n",
    "    plt.show()\n",
    "    \n",
    "plot_history(history)"
   ]
  },
  {
   "cell_type": "code",
   "execution_count": 14,
   "id": "480aef6d",
   "metadata": {},
   "outputs": [],
   "source": [
    "## Handle Submission\n",
    "def evaluate_test(model, nb_test_samples):\n",
    "    # Load test data\n",
    "    x_test, test_files = read_and_normalize_test_data(img_rows, img_cols, color_type, nb_test_samples)\n",
    "    print('Test shape:', x_test.shape)\n",
    "\n",
    "    # Create batches to avoid GPU OOM on large test set\n",
    "    batch_size = 512\n",
    "    steps = x_test.shape[0] // batch_size\n",
    "    print(f\"# of steps in test: {steps+1}\")\n",
    "\n",
    "    # Predict and save df\n",
    "    preds_df = pd.DataFrame()\n",
    "    for step in tqdm(range(steps)):\n",
    "        if step < (steps-1):\n",
    "            x_test_batch = x_test[batch_size*step:batch_size*(step+1)]\n",
    "            test_files_batch = test_files[batch_size*step:batch_size*(step+1)]\n",
    "        else:\n",
    "            x_test_batch = x_test[batch_size*step:]\n",
    "            test_files_batch = test_files[batch_size*step:]\n",
    "        preds = model.predict_on_batch(x_test_batch)\n",
    "\n",
    "        # Create df and append to master df\n",
    "        sub_df = pd.DataFrame(preds)\n",
    "        sub_df.columns = [f'c{x}' for x in range(10)]\n",
    "        sub_df['img'] = [os.path.basename(x) for x in test_files_batch]\n",
    "        cols = sub_df.columns.to_list()\n",
    "        sub_df = sub_df[cols[-1:] + cols[0:-1]]\n",
    "        \n",
    "        preds_df = pd.concat([preds_df, sub_df], axis = 0)\n",
    "    print(f\"Shape Preds: {preds_df.shape}\")\n",
    "        \n",
    "    return preds_df"
   ]
  },
  {
   "cell_type": "code",
   "execution_count": 16,
   "id": "a6284592",
   "metadata": {},
   "outputs": [
    {
     "name": "stdout",
     "output_type": "stream",
     "text": [
      "Test shape: (79726, 128, 128, 1)\n",
      "# of steps in test: 156\n"
     ]
    },
    {
     "name": "stderr",
     "output_type": "stream",
     "text": [
      "100%|████████████████████████████████████████| 155/155 [00:13<00:00, 11.13it/s]\n"
     ]
    },
    {
     "name": "stdout",
     "output_type": "stream",
     "text": [
      "Shape Preds: (79726, 11)\n"
     ]
    },
    {
     "data": {
      "text/html": [
       "<div>\n",
       "<style scoped>\n",
       "    .dataframe tbody tr th:only-of-type {\n",
       "        vertical-align: middle;\n",
       "    }\n",
       "\n",
       "    .dataframe tbody tr th {\n",
       "        vertical-align: top;\n",
       "    }\n",
       "\n",
       "    .dataframe thead th {\n",
       "        text-align: right;\n",
       "    }\n",
       "</style>\n",
       "<table border=\"1\" class=\"dataframe\">\n",
       "  <thead>\n",
       "    <tr style=\"text-align: right;\">\n",
       "      <th></th>\n",
       "      <th>img</th>\n",
       "      <th>c0</th>\n",
       "      <th>c1</th>\n",
       "      <th>c2</th>\n",
       "      <th>c3</th>\n",
       "      <th>c4</th>\n",
       "      <th>c5</th>\n",
       "      <th>c6</th>\n",
       "      <th>c7</th>\n",
       "      <th>c8</th>\n",
       "      <th>c9</th>\n",
       "    </tr>\n",
       "  </thead>\n",
       "  <tbody>\n",
       "    <tr>\n",
       "      <th>0</th>\n",
       "      <td>img_42245.jpg</td>\n",
       "      <td>3.055583e-02</td>\n",
       "      <td>2.194906e-01</td>\n",
       "      <td>5.207130e-20</td>\n",
       "      <td>7.436866e-01</td>\n",
       "      <td>6.266944e-03</td>\n",
       "      <td>7.223173e-15</td>\n",
       "      <td>3.787548e-13</td>\n",
       "      <td>9.970565e-13</td>\n",
       "      <td>1.960983e-08</td>\n",
       "      <td>2.256550e-10</td>\n",
       "    </tr>\n",
       "    <tr>\n",
       "      <th>1</th>\n",
       "      <td>img_16938.jpg</td>\n",
       "      <td>1.946630e-05</td>\n",
       "      <td>3.704671e-03</td>\n",
       "      <td>2.351381e-14</td>\n",
       "      <td>2.733049e-03</td>\n",
       "      <td>9.893783e-01</td>\n",
       "      <td>4.076703e-13</td>\n",
       "      <td>4.164526e-03</td>\n",
       "      <td>5.671668e-09</td>\n",
       "      <td>2.030153e-12</td>\n",
       "      <td>1.140378e-12</td>\n",
       "    </tr>\n",
       "    <tr>\n",
       "      <th>2</th>\n",
       "      <td>img_65608.jpg</td>\n",
       "      <td>4.456624e-09</td>\n",
       "      <td>3.851933e-08</td>\n",
       "      <td>3.539963e-11</td>\n",
       "      <td>4.942083e-09</td>\n",
       "      <td>5.158971e-04</td>\n",
       "      <td>7.914755e-01</td>\n",
       "      <td>1.930152e-01</td>\n",
       "      <td>7.932700e-11</td>\n",
       "      <td>3.790515e-08</td>\n",
       "      <td>1.499318e-02</td>\n",
       "    </tr>\n",
       "    <tr>\n",
       "      <th>3</th>\n",
       "      <td>img_29335.jpg</td>\n",
       "      <td>8.771481e-10</td>\n",
       "      <td>5.108962e-12</td>\n",
       "      <td>2.838438e-17</td>\n",
       "      <td>6.260374e-15</td>\n",
       "      <td>4.871630e-09</td>\n",
       "      <td>3.179444e-14</td>\n",
       "      <td>1.000000e+00</td>\n",
       "      <td>6.058532e-12</td>\n",
       "      <td>1.157205e-11</td>\n",
       "      <td>1.618041e-23</td>\n",
       "    </tr>\n",
       "    <tr>\n",
       "      <th>4</th>\n",
       "      <td>img_793.jpg</td>\n",
       "      <td>1.667519e-05</td>\n",
       "      <td>1.349494e-13</td>\n",
       "      <td>2.456014e-10</td>\n",
       "      <td>2.610706e-10</td>\n",
       "      <td>9.637632e-14</td>\n",
       "      <td>7.807764e-08</td>\n",
       "      <td>8.532557e-11</td>\n",
       "      <td>6.777809e-09</td>\n",
       "      <td>3.816532e-12</td>\n",
       "      <td>9.999832e-01</td>\n",
       "    </tr>\n",
       "  </tbody>\n",
       "</table>\n",
       "</div>"
      ],
      "text/plain": [
       "             img            c0            c1            c2            c3  \\\n",
       "0  img_42245.jpg  3.055583e-02  2.194906e-01  5.207130e-20  7.436866e-01   \n",
       "1  img_16938.jpg  1.946630e-05  3.704671e-03  2.351381e-14  2.733049e-03   \n",
       "2  img_65608.jpg  4.456624e-09  3.851933e-08  3.539963e-11  4.942083e-09   \n",
       "3  img_29335.jpg  8.771481e-10  5.108962e-12  2.838438e-17  6.260374e-15   \n",
       "4    img_793.jpg  1.667519e-05  1.349494e-13  2.456014e-10  2.610706e-10   \n",
       "\n",
       "             c4            c5            c6            c7            c8  \\\n",
       "0  6.266944e-03  7.223173e-15  3.787548e-13  9.970565e-13  1.960983e-08   \n",
       "1  9.893783e-01  4.076703e-13  4.164526e-03  5.671668e-09  2.030153e-12   \n",
       "2  5.158971e-04  7.914755e-01  1.930152e-01  7.932700e-11  3.790515e-08   \n",
       "3  4.871630e-09  3.179444e-14  1.000000e+00  6.058532e-12  1.157205e-11   \n",
       "4  9.637632e-14  7.807764e-08  8.532557e-11  6.777809e-09  3.816532e-12   \n",
       "\n",
       "             c9  \n",
       "0  2.256550e-10  \n",
       "1  1.140378e-12  \n",
       "2  1.499318e-02  \n",
       "3  1.618041e-23  \n",
       "4  9.999832e-01  "
      ]
     },
     "execution_count": 16,
     "metadata": {},
     "output_type": "execute_result"
    }
   ],
   "source": [
    "try:\n",
    "    del x_train, x_val, y_train, y_val\n",
    "except:\n",
    "    pass\n",
    "\n",
    "## Evaluate test, save\n",
    "nb_test_samples = len(os.listdir(test_dir))\n",
    "#nb_test_samples = 6000\n",
    "preds_df = evaluate_test(simple_cnn, nb_test_samples)\n",
    "preds_df.to_csv('./test_preds/preds_simple_cnn.csv', index=False)\n",
    "preds_df.head()"
   ]
  },
  {
   "cell_type": "code",
   "execution_count": 17,
   "id": "421d2d9b",
   "metadata": {},
   "outputs": [
    {
     "name": "stdout",
     "output_type": "stream",
     "text": [
      "/bin/bash: /home/jetcalz07/anaconda3/envs/sf_dd/lib/libtinfo.so.6: no version information available (required by /bin/bash)\n",
      "100%|██████████████████████████████████████| 11.0M/11.0M [00:01<00:00, 8.53MB/s]\n",
      "Successfully submitted to State Farm Distracted Driver Detection"
     ]
    }
   ],
   "source": [
    "# Submit to kaggle thru CLI\n",
    "!kaggle competitions submit -c state-farm-distracted-driver-detection -f ./test_preds/preds_simple_cnn.csv -m \"first_submission\""
   ]
  },
  {
   "cell_type": "markdown",
   "id": "8ce72133",
   "metadata": {},
   "source": [
    "### Simple CNN + Data Augmentation"
   ]
  },
  {
   "cell_type": "code",
   "execution_count": null,
   "id": "e540d483",
   "metadata": {},
   "outputs": [],
   "source": [
    "train_datagen = ImageDataGenerator(rescale = 1.0/255, \n",
    "                                   shear_range = 0.2, \n",
    "                                   zoom_range = 0.2, \n",
    "                                   rotation_range=20,\n",
    "                                   horizontal_flip = True)\n",
    "val_datagen = ImageDataGenerator(rescale=1.0/ 255)\n",
    "\n",
    "training_generator = train_datagen.flow(x_train, y_train, batch_size=batch_size)\n",
    "val_generator = val_datagen.flow(x_val, y_val, batch_size=batch_size)\n",
    "\n",
    "cnn_datagen = build_simple_cnn(input_shape, batch_size, kernel_size, filters, pool_size, dropout, num_labels)\n",
    "history = cnn_datagen.fit_generator(training_generator,\n",
    "                                     steps_per_epoch = x_train.shape[0] // batch_size,\n",
    "                                     epochs = 20, \n",
    "                                     verbose = 1,\n",
    "                                     validation_data = val_generator,\n",
    "                                     validation_steps = x_val.shape[0] // batch_size)"
   ]
  },
  {
   "cell_type": "code",
   "execution_count": null,
   "id": "5aac9ff4",
   "metadata": {},
   "outputs": [],
   "source": [
    "plot_history(history)"
   ]
  },
  {
   "cell_type": "code",
   "execution_count": null,
   "id": "9dcba89e",
   "metadata": {},
   "outputs": [],
   "source": [
    "## Evaluate test, save\n",
    "nb_test_samples = len(os.listdir(test_dir))\n",
    "#nb_test_samples = 6000\n",
    "preds_df = evaluate_test(cnn_datagen, nb_test_samples)\n",
    "preds_df.to_csv('./test_preds/preds_simple_cnn_aug.csv', index=False)\n",
    "preds_df.head()"
   ]
  },
  {
   "cell_type": "code",
   "execution_count": null,
   "id": "bef39e37",
   "metadata": {},
   "outputs": [],
   "source": [
    "# Submit to kaggle thru CLI\n",
    "!kaggle competitions submit -c state-farm-distracted-driver-detection -f ./test_preds/preds_simple_cnn_aug.csv -m \"aug_submission\""
   ]
  },
  {
   "cell_type": "code",
   "execution_count": null,
   "id": "5b886014",
   "metadata": {},
   "outputs": [],
   "source": []
  },
  {
   "cell_type": "code",
   "execution_count": null,
   "id": "3f6efde3",
   "metadata": {},
   "outputs": [],
   "source": []
  },
  {
   "cell_type": "markdown",
   "id": "72c051a3",
   "metadata": {},
   "source": [
    "### Code Garage"
   ]
  },
  {
   "cell_type": "code",
   "execution_count": null,
   "id": "f70aed5b",
   "metadata": {},
   "outputs": [],
   "source": [
    "# # Same for test\n",
    "# def load_test_batch(img_rows, img_cols, start, end, color_type=1):\n",
    "#     test_data = []\n",
    "#     test_files = []\n",
    "    \n",
    "#     files = glob(os.path.join(test_dir, '*.jpg'))\n",
    "#     total = 0\n",
    "#     for file in files[start:end]:\n",
    "#         img = get_cv2_image(file, img_rows, img_cols, color_type)\n",
    "#         test_data.append(img)\n",
    "#         test_files.append(file)\n",
    "#         total += 1\n",
    "            \n",
    "#     return test_data, test_files\n",
    "\n",
    "# def read_reshape_test_batch(img_rows, img_cols, start, end, color_type=1):\n",
    "#     test_data, test_files = load_test_batch(img_rows, img_cols, start, end, color_type)\n",
    "#     test_data = np.array(test_data, dtype=np.uint8).reshape(-1,img_rows,img_cols,color_type)\n",
    "    \n",
    "#     return test_data, test_files"
   ]
  }
 ],
 "metadata": {
  "kernelspec": {
   "display_name": "Python 3 (ipykernel)",
   "language": "python",
   "name": "python3"
  },
  "language_info": {
   "codemirror_mode": {
    "name": "ipython",
    "version": 3
   },
   "file_extension": ".py",
   "mimetype": "text/x-python",
   "name": "python",
   "nbconvert_exporter": "python",
   "pygments_lexer": "ipython3",
   "version": "3.9.12"
  }
 },
 "nbformat": 4,
 "nbformat_minor": 5
}
