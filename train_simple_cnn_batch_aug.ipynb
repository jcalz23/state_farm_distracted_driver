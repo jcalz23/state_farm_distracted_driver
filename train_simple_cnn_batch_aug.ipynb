{
 "cells": [
  {
   "cell_type": "code",
   "execution_count": 1,
   "id": "0f6a938b",
   "metadata": {},
   "outputs": [
    {
     "name": "stdout",
     "output_type": "stream",
     "text": [
      "[PhysicalDevice(name='/physical_device:GPU:0', device_type='GPU')]\n"
     ]
    }
   ],
   "source": [
    "import numpy as np\n",
    "import pandas as pd\n",
    "import os\n",
    "import cv2\n",
    "import matplotlib.pyplot as plt\n",
    "from glob import glob\n",
    "from tqdm import tqdm\n",
    "import warnings\n",
    "warnings.filterwarnings('ignore')\n",
    "os.environ['TF_CPP_MIN_LOG_LEVEL'] = '3'\n",
    "\n",
    "import tensorflow as tf\n",
    "from tensorflow import keras\n",
    "from keras.utils import np_utils\n",
    "from tensorflow.keras.layers import Input, Dense, Conv2D, MaxPooling2D, Flatten, Dropout\n",
    "from tensorflow.keras.models import Model\n",
    "from tensorflow.keras.preprocessing.image import ImageDataGenerator\n",
    "print(tf.config.list_physical_devices('GPU'))\n",
    "\n",
    "from sklearn.model_selection import train_test_split\n",
    "from sklearn.datasets import load_files       \n",
    "from sklearn.utils import shuffle\n",
    "from sklearn.metrics import log_loss"
   ]
  },
  {
   "cell_type": "code",
   "execution_count": 2,
   "id": "fb5e43a4",
   "metadata": {},
   "outputs": [],
   "source": [
    "train_dir = '/home/jetcalz07/state_farm_distracted_driver/data/imgs/train/'\n",
    "test_dir = '/home/jetcalz07/state_farm_distracted_driver/data/imgs/test/'"
   ]
  },
  {
   "cell_type": "markdown",
   "id": "13da98f7",
   "metadata": {},
   "source": [
    "### Load Data"
   ]
  },
  {
   "cell_type": "code",
   "execution_count": 3,
   "id": "3fafaafa",
   "metadata": {},
   "outputs": [],
   "source": [
    "# Function to read indiv image\n",
    "def get_cv2_image(path, img_rows, img_cols, color_type=1):\n",
    "    # Loading as Grayscale image\n",
    "    if color_type == 1:\n",
    "        img = cv2.imread(path, cv2.IMREAD_GRAYSCALE)\n",
    "    elif color_type == 3:\n",
    "        img = cv2.imread(path, cv2.IMREAD_COLOR)\n",
    "    # Reduce size\n",
    "    img = cv2.resize(img, (img_rows, img_cols)) \n",
    "    return img"
   ]
  },
  {
   "cell_type": "code",
   "execution_count": 4,
   "id": "9e82f89e",
   "metadata": {},
   "outputs": [],
   "source": [
    "num_classes = 10\n",
    "classes = ['c' + str(x) for x in range(num_classes)]\n",
    "\n",
    "# Load train batch into image and label arrays\n",
    "def load_train(img_rows, img_cols, color_type=1):\n",
    "    train_imgs = []\n",
    "    train_labels = []\n",
    "    \n",
    "    # Go through each folder\n",
    "    i = 0\n",
    "    for class_ in classes:\n",
    "        files = glob(os.path.join(train_dir, class_, '*.jpg'))\n",
    "        for file in tqdm(files):\n",
    "            img = get_cv2_image(file, img_rows, img_cols, color_type)\n",
    "            train_imgs.append(img)\n",
    "            train_labels.append(i)\n",
    "        i += 1\n",
    "            \n",
    "    return train_imgs, train_labels\n",
    "\n",
    "\n",
    "# Split into train and val\n",
    "def normalize_and_split_train_val(img_rows, img_cols, color_type=1):\n",
    "    X, labels = load_train(img_rows, img_cols, color_type)\n",
    "    y = np_utils.to_categorical(labels, 10)\n",
    "    x_train, x_val, y_train, y_val = train_test_split(X, y, test_size=0.2, random_state=42)\n",
    "    \n",
    "    # Convert dtype and reshape for batches\n",
    "    x_train = np.array(x_train, dtype=np.uint8).reshape(-1,img_rows,img_cols,color_type)\n",
    "    x_val = np.array(x_val, dtype=np.uint8).reshape(-1,img_rows,img_cols,color_type)\n",
    "    \n",
    "    return x_train, x_val, y_train, y_val\n",
    "    \n",
    "    \n",
    "# Same for test\n",
    "def load_test(img_rows, img_cols, color_type=1, size=200000):\n",
    "    test_data = []\n",
    "    test_files = []\n",
    "    \n",
    "    files = glob(os.path.join(test_dir, '*.jpg'))\n",
    "    total = 0\n",
    "    for file in tqdm(files):\n",
    "        if total >= size:\n",
    "            break\n",
    "        img = get_cv2_image(file, img_rows, img_cols, color_type)\n",
    "        test_data.append(img)\n",
    "        test_files.append(file)\n",
    "        total += 1\n",
    "            \n",
    "    return test_data, test_files\n",
    "\n",
    "def read_and_normalize_test_data(img_rows, img_cols, color_type=1, size=200000):\n",
    "    test_data, test_files = load_test(img_rows, img_cols, color_type, size)\n",
    "    test_data = np.array(test_data, dtype=np.uint8).reshape(-1,img_rows,img_cols,color_type)\n",
    "    \n",
    "    return test_data, test_files"
   ]
  },
  {
   "cell_type": "code",
   "execution_count": 5,
   "id": "76fcd7ec",
   "metadata": {},
   "outputs": [
    {
     "name": "stderr",
     "output_type": "stream",
     "text": [
      "100%|█████████████████████████████████████| 2489/2489 [00:08<00:00, 300.40it/s]\n",
      "100%|█████████████████████████████████████| 2267/2267 [00:07<00:00, 300.45it/s]\n",
      "100%|█████████████████████████████████████| 2317/2317 [00:07<00:00, 302.00it/s]\n",
      "100%|█████████████████████████████████████| 2346/2346 [00:07<00:00, 294.69it/s]\n",
      "100%|█████████████████████████████████████| 2326/2326 [00:07<00:00, 298.93it/s]\n",
      "100%|█████████████████████████████████████| 2312/2312 [00:07<00:00, 296.81it/s]\n",
      "100%|█████████████████████████████████████| 2325/2325 [00:07<00:00, 299.41it/s]\n",
      "100%|█████████████████████████████████████| 2002/2002 [00:06<00:00, 295.60it/s]\n",
      "100%|█████████████████████████████████████| 1911/1911 [00:06<00:00, 298.30it/s]\n",
      "100%|█████████████████████████████████████| 2129/2129 [00:07<00:00, 299.69it/s]\n"
     ]
    },
    {
     "name": "stdout",
     "output_type": "stream",
     "text": [
      "X Train shape: (17939, 64, 64, 3)\n",
      "Y Train shape: (17939, 10)\n",
      "X Val shape: (4485, 64, 64, 3)\n",
      "Y Val shape: (4485, 10)\n",
      "\n",
      "Sample Image Label: [0. 0. 0. 0. 0. 0. 1. 0. 0. 0.]\n"
     ]
    },
    {
     "data": {
      "text/plain": [
       "<matplotlib.image.AxesImage at 0x7f5b5e892580>"
      ]
     },
     "execution_count": 5,
     "metadata": {},
     "output_type": "execute_result"
    },
    {
     "data": {
      "image/png": "[encoded data removed]",
      "text/plain": [
       "<Figure size 432x288 with 1 Axes>"
      ]
     },
     "metadata": {
      "needs_background": "light"
     },
     "output_type": "display_data"
    }
   ],
   "source": [
    "img_rows = 64\n",
    "img_cols = 64\n",
    "color_type = 3\n",
    "\n",
    "x_train, x_val, y_train, y_val = normalize_and_split_train_val(img_rows, img_cols, color_type)\n",
    "print('X Train shape:', x_train.shape)\n",
    "print('Y Train shape:', y_train.shape)\n",
    "print('X Val shape:', x_val.shape)\n",
    "print('Y Val shape:', y_val.shape)\n",
    "\n",
    "print(f\"\\nSample Image Label: {y_train[0]}\")\n",
    "plt.imshow(x_train[0], cmap='gray')"
   ]
  },
  {
   "cell_type": "markdown",
   "id": "6deda69a",
   "metadata": {},
   "source": [
    "### Model Functions"
   ]
  },
  {
   "cell_type": "code",
   "execution_count": 8,
   "id": "77c0dc83",
   "metadata": {},
   "outputs": [],
   "source": [
    "def build_simple_cnn(input_shape, batch_size, kernel_size, filters, pool_size, dropout, num_labels):\n",
    "    inputs = Input(shape=(input_shape))\n",
    "    \n",
    "    # Conv + Pool #1\n",
    "    conv1 = Conv2D(filters=filters, kernel_size=kernel_size, activation='relu')(inputs)\n",
    "    maxp1 = MaxPooling2D(pool_size)(conv1)\n",
    "    drop1 = Dropout(dropout)(maxp1)\n",
    "    \n",
    "    # Conv + Pool #2\n",
    "    conv2 = Conv2D(filters=filters, kernel_size=kernel_size, activation='relu')(drop1)\n",
    "    maxp2 = MaxPooling2D(pool_size)(conv2)\n",
    "    drop2 = Dropout(dropout)(maxp2)\n",
    "    \n",
    "    # Conv + Pool #3\n",
    "    conv3 = Conv2D(filters=filters, kernel_size=kernel_size, activation='relu')(drop2)\n",
    "    maxp3 = MaxPooling2D(pool_size)(conv3)\n",
    "    drop3 = Dropout(dropout)(maxp3)\n",
    "    \n",
    "    # Flatten + Dropoout\n",
    "    flat = Flatten()(drop3)\n",
    "    drop = Dropout(dropout)(flat)\n",
    "    \n",
    "    # Fully Connected\n",
    "    outputs = Dense(num_labels, activation = 'softmax')(drop)\n",
    "    \n",
    "    # Build\n",
    "    model = Model(inputs=inputs, outputs=outputs)\n",
    "    model.compile(loss='categorical_crossentropy', optimizer='adam', metrics=['accuracy'])\n",
    "    \n",
    "    return model"
   ]
  },
  {
   "cell_type": "code",
   "execution_count": 7,
   "id": "29f33ae5",
   "metadata": {},
   "outputs": [],
   "source": [
    "def plot_history(history):\n",
    "    fig, axs = plt.subplots(1, 2, figsize=(15,5))\n",
    "\n",
    "    # summarize history for accuracy\n",
    "    axs[0].plot(history.history['accuracy'])\n",
    "    axs[0].plot(history.history['val_accuracy'])\n",
    "    axs[0].set_title('model accuracy')\n",
    "    axs[0].set_ylabel('accuracy')\n",
    "    axs[0].set_xlabel('epoch')\n",
    "    axs[0].legend(['train', 'val'], loc='upper left')\n",
    "\n",
    "    # summarize history for loss\n",
    "    axs[1].plot(history.history['loss'])\n",
    "    axs[1].plot(history.history['val_loss'])\n",
    "    axs[1].set_title('model loss')\n",
    "    axs[1].set_ylabel('loss')\n",
    "    axs[1].set_xlabel('epoch')\n",
    "    axs[1].legend(['train', 'val'], loc='upper left')\n",
    "\n",
    "    plt.show()"
   ]
  },
  {
   "cell_type": "code",
   "execution_count": 6,
   "id": "480aef6d",
   "metadata": {},
   "outputs": [],
   "source": [
    "## Handle Submission\n",
    "def evaluate_test(model, img_rows, img_cols, color_type, nb_test_samples):\n",
    "    # Load test data\n",
    "    x_test, test_files = read_and_normalize_test_data(img_rows, img_cols, color_type, nb_test_samples)\n",
    "    print('Test shape:', x_test.shape)\n",
    "\n",
    "    # Create batches to avoid GPU OOM on large test set\n",
    "    batch_size = 128\n",
    "    steps = x_test.shape[0] // batch_size\n",
    "    print(f\"# of steps in test: {steps+1}\")\n",
    "\n",
    "    # Predict and save df\n",
    "    preds_df = pd.DataFrame()\n",
    "    for step in tqdm(range(steps)):\n",
    "        if step < (steps-1):\n",
    "            x_test_batch = x_test[batch_size*step:batch_size*(step+1)]\n",
    "            test_files_batch = test_files[batch_size*step:batch_size*(step+1)]\n",
    "        else:\n",
    "            x_test_batch = x_test[batch_size*step:]\n",
    "            test_files_batch = test_files[batch_size*step:]\n",
    "        preds = model.predict_on_batch(x_test_batch)\n",
    "\n",
    "        # Create df and append to master df\n",
    "        sub_df = pd.DataFrame(preds)\n",
    "        sub_df.columns = [f'c{x}' for x in range(10)]\n",
    "        sub_df['img'] = [os.path.basename(x) for x in test_files_batch]\n",
    "        cols = sub_df.columns.to_list()\n",
    "        sub_df = sub_df[cols[-1:] + cols[0:-1]]\n",
    "        \n",
    "        preds_df = pd.concat([preds_df, sub_df], axis = 0)\n",
    "    print(f\"Shape Preds: {preds_df.shape}\")\n",
    "        \n",
    "    return preds_df"
   ]
  },
  {
   "cell_type": "markdown",
   "id": "8ce72133",
   "metadata": {},
   "source": [
    "### Train Simple CNN + Batch Image Augmentation"
   ]
  },
  {
   "cell_type": "code",
   "execution_count": 11,
   "id": "7fe26250",
   "metadata": {},
   "outputs": [],
   "source": [
    "size_x = x_train.shape[1]\n",
    "size_y = x_train.shape[2]\n",
    "input_shape = (size_x, size_y, color_type)\n",
    "batch_size = 128\n",
    "kernel_size = 3\n",
    "pool_size=(2, 2)\n",
    "filters = 64\n",
    "dropout = 0.3\n",
    "num_labels = 10"
   ]
  },
  {
   "cell_type": "code",
   "execution_count": 13,
   "id": "e540d483",
   "metadata": {},
   "outputs": [
    {
     "name": "stdout",
     "output_type": "stream",
     "text": [
      "Epoch 1/20\n",
      "140/140 [==============================] - 21s 144ms/step - loss: 2.0049 - accuracy: 0.2625 - val_loss: 1.3684 - val_accuracy: 0.5377\n",
      "Epoch 2/20\n",
      "140/140 [==============================] - 20s 141ms/step - loss: 1.2321 - accuracy: 0.5753 - val_loss: 0.7102 - val_accuracy: 0.8201\n",
      "Epoch 3/20\n",
      "140/140 [==============================] - 22s 154ms/step - loss: 0.8329 - accuracy: 0.7196 - val_loss: 0.4380 - val_accuracy: 0.8949\n",
      "Epoch 4/20\n",
      "140/140 [==============================] - 20s 141ms/step - loss: 0.6046 - accuracy: 0.8040 - val_loss: 0.3099 - val_accuracy: 0.9214\n",
      "Epoch 5/20\n",
      "140/140 [==============================] - 20s 141ms/step - loss: 0.5051 - accuracy: 0.8392 - val_loss: 0.2291 - val_accuracy: 0.9487\n",
      "Epoch 6/20\n",
      "140/140 [==============================] - 20s 145ms/step - loss: 0.4361 - accuracy: 0.8598 - val_loss: 0.2060 - val_accuracy: 0.9473\n",
      "Epoch 7/20\n",
      "140/140 [==============================] - 23s 161ms/step - loss: 0.3862 - accuracy: 0.8781 - val_loss: 0.1610 - val_accuracy: 0.9605\n",
      "Epoch 8/20\n",
      "140/140 [==============================] - 20s 140ms/step - loss: 0.3483 - accuracy: 0.8897 - val_loss: 0.1572 - val_accuracy: 0.9600\n",
      "Epoch 9/20\n",
      "140/140 [==============================] - 20s 141ms/step - loss: 0.3157 - accuracy: 0.9001 - val_loss: 0.1387 - val_accuracy: 0.9629\n",
      "Epoch 10/20\n",
      "140/140 [==============================] - 20s 139ms/step - loss: 0.2987 - accuracy: 0.9040 - val_loss: 0.1366 - val_accuracy: 0.9647\n",
      "Epoch 11/20\n",
      "140/140 [==============================] - 19s 139ms/step - loss: 0.2717 - accuracy: 0.9135 - val_loss: 0.1167 - val_accuracy: 0.9705\n",
      "Epoch 12/20\n",
      "140/140 [==============================] - 20s 140ms/step - loss: 0.2621 - accuracy: 0.9192 - val_loss: 0.1098 - val_accuracy: 0.9699\n",
      "Epoch 13/20\n",
      "140/140 [==============================] - 20s 141ms/step - loss: 0.2554 - accuracy: 0.9185 - val_loss: 0.1123 - val_accuracy: 0.9725\n",
      "Epoch 14/20\n",
      "140/140 [==============================] - 20s 146ms/step - loss: 0.2402 - accuracy: 0.9259 - val_loss: 0.0952 - val_accuracy: 0.9759\n",
      "Epoch 15/20\n",
      "140/140 [==============================] - 20s 141ms/step - loss: 0.2251 - accuracy: 0.9293 - val_loss: 0.0896 - val_accuracy: 0.9768\n",
      "Epoch 16/20\n",
      "140/140 [==============================] - 20s 142ms/step - loss: 0.2274 - accuracy: 0.9273 - val_loss: 0.0855 - val_accuracy: 0.9775\n",
      "Epoch 17/20\n",
      "140/140 [==============================] - 20s 141ms/step - loss: 0.2080 - accuracy: 0.9331 - val_loss: 0.0852 - val_accuracy: 0.9779\n",
      "Epoch 18/20\n",
      "140/140 [==============================] - 20s 141ms/step - loss: 0.2027 - accuracy: 0.9360 - val_loss: 0.0738 - val_accuracy: 0.9810\n",
      "Epoch 19/20\n",
      "140/140 [==============================] - 20s 140ms/step - loss: 0.1979 - accuracy: 0.9363 - val_loss: 0.0749 - val_accuracy: 0.9792\n",
      "Epoch 20/20\n",
      "140/140 [==============================] - 20s 143ms/step - loss: 0.1931 - accuracy: 0.9404 - val_loss: 0.0688 - val_accuracy: 0.9830\n"
     ]
    }
   ],
   "source": [
    "train_datagen = ImageDataGenerator(rescale = 1.0/255, \n",
    "                                   shear_range = 0.2, \n",
    "                                   zoom_range = 0.2, \n",
    "                                   rotation_range=20,\n",
    "                                   horizontal_flip = False)\n",
    "training_generator = train_datagen.flow(x_train, y_train, batch_size=batch_size)\n",
    "\n",
    "val_datagen = ImageDataGenerator(rescale=1.0/ 255)\n",
    "val_generator = val_datagen.flow(x_val, y_val, batch_size=batch_size)\n",
    "\n",
    "cnn_datagen = build_simple_cnn(input_shape, batch_size, kernel_size, filters, pool_size, dropout, num_labels)\n",
    "history = cnn_datagen.fit_generator(training_generator,\n",
    "                                     steps_per_epoch = x_train.shape[0] // batch_size,\n",
    "                                     epochs = 20, \n",
    "                                     verbose = 1,\n",
    "                                     validation_data = val_generator,\n",
    "                                     validation_steps = x_val.shape[0] // batch_size)"
   ]
  },
  {
   "cell_type": "code",
   "execution_count": 14,
   "id": "5aac9ff4",
   "metadata": {},
   "outputs": [
    {
     "data": {
      "image/png": "[encoded data removed]",
      "text/plain": [
       "<Figure size 1080x360 with 2 Axes>"
      ]
     },
     "metadata": {
      "needs_background": "light"
     },
     "output_type": "display_data"
    }
   ],
   "source": [
    "plot_history(history)"
   ]
  },
  {
   "cell_type": "markdown",
   "id": "f09d4fd1",
   "metadata": {},
   "source": [
    "### Evaluate and Submit"
   ]
  },
  {
   "cell_type": "code",
   "execution_count": null,
   "id": "9dcba89e",
   "metadata": {},
   "outputs": [
    {
     "name": "stderr",
     "output_type": "stream",
     "text": [
      " 39%|█████████████▌                     | 30963/79726 [02:14<05:56, 136.70it/s]"
     ]
    }
   ],
   "source": [
    "try:\n",
    "    del x_train, x_val, y_train, y_val\n",
    "except:\n",
    "    pass\n",
    "\n",
    "## Evaluate test, save\n",
    "nb_test_samples = len(os.listdir(test_dir))\n",
    "img_rows_test = 256\n",
    "img_cols_test = 256\n",
    "preds_df = evaluate_test(cnn_datagen, img_rows_test, img_cols_test, color_type, nb_test_samples)\n",
    "preds_df.to_csv('./test_preds/preds_simple_cnn_batch_aug.csv', index=False)\n",
    "preds_df.head()"
   ]
  },
  {
   "cell_type": "code",
   "execution_count": null,
   "id": "bef39e37",
   "metadata": {},
   "outputs": [],
   "source": [
    "# Submit to kaggle thru CLI\n",
    "!kaggle competitions submit -c state-farm-distracted-driver-detection -f ./test_preds/preds_simple_cnn_batch_aug.csv -m \"aug_submission\""
   ]
  },
  {
   "cell_type": "code",
   "execution_count": null,
   "id": "5b886014",
   "metadata": {},
   "outputs": [],
   "source": []
  },
  {
   "cell_type": "code",
   "execution_count": null,
   "id": "3f6efde3",
   "metadata": {},
   "outputs": [],
   "source": []
  },
  {
   "cell_type": "markdown",
   "id": "72c051a3",
   "metadata": {},
   "source": [
    "### Code Garage"
   ]
  },
  {
   "cell_type": "code",
   "execution_count": null,
   "id": "f70aed5b",
   "metadata": {},
   "outputs": [],
   "source": [
    "# # Same for test\n",
    "# def load_test_batch(img_rows, img_cols, start, end, color_type=1):\n",
    "#     test_data = []\n",
    "#     test_files = []\n",
    "    \n",
    "#     files = glob(os.path.join(test_dir, '*.jpg'))\n",
    "#     total = 0\n",
    "#     for file in files[start:end]:\n",
    "#         img = get_cv2_image(file, img_rows, img_cols, color_type)\n",
    "#         test_data.append(img)\n",
    "#         test_files.append(file)\n",
    "#         total += 1\n",
    "            \n",
    "#     return test_data, test_files\n",
    "\n",
    "# def read_reshape_test_batch(img_rows, img_cols, start, end, color_type=1):\n",
    "#     test_data, test_files = load_test_batch(img_rows, img_cols, start, end, color_type)\n",
    "#     test_data = np.array(test_data, dtype=np.uint8).reshape(-1,img_rows,img_cols,color_type)\n",
    "    \n",
    "#     return test_data, test_files"
   ]
  }
 ],
 "metadata": {
  "kernelspec": {
   "display_name": "Python 3 (ipykernel)",
   "language": "python",
   "name": "python3"
  },
  "language_info": {
   "codemirror_mode": {
    "name": "ipython",
    "version": 3
   },
   "file_extension": ".py",
   "mimetype": "text/x-python",
   "name": "python",
   "nbconvert_exporter": "python",
   "pygments_lexer": "ipython3",
   "version": "3.9.12"
  }
 },
 "nbformat": 4,
 "nbformat_minor": 5
}
